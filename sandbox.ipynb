{
 "cells": [
  {
   "cell_type": "code",
   "execution_count": 1,
   "id": "28ebdd27",
   "metadata": {},
   "outputs": [],
   "source": [
    "from IPython.display import display, Markdown\n",
    "from core.models import Page, Section, TextResult, KPIResult"
   ]
  },
  {
   "cell_type": "code",
   "execution_count": null,
   "id": "0dba0065",
   "metadata": {},
   "outputs": [],
   "source": [
    "## Scenario \n",
    "\n",
    "## What is evolution of the AI in the last 10 years?\n",
    "### -> AI Works on a first iteration of the report \n",
    "\n",
    "## First, I would like to better introduce the subject. Please rework the introduction section and include more data \n",
    "### -> AI will have to rewrite a specific part of the report \n",
    "\n",
    "## Now, add a section about the future of AI\n",
    "### -> AI will have to add a new section to the report\n"
   ]
  },
  {
   "cell_type": "code",
   "execution_count": null,
   "id": "af5e2813",
   "metadata": {},
   "outputs": [],
   "source": [
    "## 4 phases possible with the AI \n",
    "# 1. Initial report generation\n",
    "# 2. Rework a specific section\n",
    "# 3. Add a new section\n",
    "# 4. Review the report"
   ]
  },
  {
   "cell_type": "code",
   "execution_count": null,
   "id": "4cfa1721",
   "metadata": {},
   "outputs": [],
   "source": []
  },
  {
   "cell_type": "code",
   "execution_count": null,
   "id": "d795c2d2",
   "metadata": {},
   "outputs": [],
   "source": []
  },
  {
   "cell_type": "code",
   "execution_count": null,
   "id": "30b00229",
   "metadata": {},
   "outputs": [],
   "source": []
  },
  {
   "cell_type": "code",
   "execution_count": 2,
   "id": "a0e5c660",
   "metadata": {},
   "outputs": [],
   "source": [
    "## Example usage\n",
    "page_example = Page(\n",
    "    title=\"Monthly Report\",\n",
    "    sub_title=\"Performance Overview\",\n",
    "    content=[\n",
    "        Section(\n",
    "            type=\"text\",\n",
    "            result=TextResult(text=\"This is a summary of the monthly performance.\")\n",
    "        ),\n",
    "        Section(\n",
    "            type=\"kpi\",\n",
    "            result=KPIResult(kpi=\"85%\", description=\"Overall performance KPI for the month.\")\n",
    "        ),\n",
    "        Section(\n",
    "            type=\"text\",\n",
    "            result=TextResult(text=\"Further details and analysis can be found in the report.\")\n",
    "        )\n",
    "    ]\n",
    ")"
   ]
  },
  {
   "cell_type": "code",
   "execution_count": 3,
   "id": "6767c194",
   "metadata": {},
   "outputs": [
    {
     "data": {
      "text/markdown": [
       "# Monthly Report\n",
       "\n",
       "> Performance Overview\n",
       "\n",
       "This is a summary of the monthly performance.\n",
       "\n",
       "\n",
       "| **85%** |\n",
       "-----------------------\n",
       "| Overall performance KPI for the month. |\n",
       "\n",
       "\n",
       "Further details and analysis can be found in the report."
      ],
      "text/plain": [
       "<IPython.core.display.Markdown object>"
      ]
     },
     "metadata": {},
     "output_type": "display_data"
    }
   ],
   "source": [
    "display(Markdown(page_example.to_markdown()))"
   ]
  },
  {
   "cell_type": "code",
   "execution_count": null,
   "id": "25484470",
   "metadata": {},
   "outputs": [],
   "source": [
    "def add_new_section(input_page: Page, new_section: Section) -> Page:\n",
    "    \"\"\"\n",
    "    Adds a new section to the input page and returns the updated page.\n",
    "    \"\"\"\n",
    "    input_page.content.append(new_section)\n",
    "    return input_page"
   ]
  },
  {
   "cell_type": "code",
   "execution_count": 27,
   "id": "842340c4",
   "metadata": {},
   "outputs": [],
   "source": [
    "def review_section(input_page: Page, section_nb: int) -> Page: \n",
    "    revised_section = input_page.content[section_nb]\n",
    "\n",
    "    if revised_section.type == \"text\":\n",
    "        revised_section.result.text = \"This is a revised summary of the monthly performance.\"\n",
    "    elif revised_section.type == \"kpi\":\n",
    "        revised_section.result.kpi = \"90%\"\n",
    "        revised_section.result.description = \"Updated overall performance KPI for the month.\"\n",
    "\n",
    "\n",
    "\n",
    "    new_page = Page(\n",
    "        title=input_page.title,\n",
    "        sub_title=input_page.sub_title,\n",
    "        content=[]\n",
    "    )\n",
    "    i = 0\n",
    "    # Rebuild the content with the updated section\n",
    "    for a_section in input_page.content:\n",
    "        if i == section_nb:\n",
    "            new_page.content.append(revised_section)\n",
    "        else:\n",
    "            new_page.content.append(a_section)\n",
    "        i += 1\n",
    "\n",
    "    return new_page\n"
   ]
  },
  {
   "cell_type": "code",
   "execution_count": 29,
   "id": "450b329c",
   "metadata": {},
   "outputs": [
    {
     "data": {
      "text/markdown": [
       "# Monthly Report\n",
       "\n",
       "> Performance Overview\n",
       "\n",
       "This is a revised summary of the monthly performance.\n",
       "\n",
       "\n",
       "| **90%** |\n",
       "-----------------------\n",
       "| Updated overall performance KPI for the month. |\n",
       "\n",
       "\n",
       "Further details and analysis can be found in the report."
      ],
      "text/plain": [
       "<IPython.core.display.Markdown object>"
      ]
     },
     "metadata": {},
     "output_type": "display_data"
    }
   ],
   "source": [
    "display(Markdown(\n",
    "    review_section(input_page=page_example, section_nb=0).to_markdown()\n",
    "))"
   ]
  },
  {
   "cell_type": "code",
   "execution_count": null,
   "id": "e4634069",
   "metadata": {},
   "outputs": [],
   "source": []
  },
  {
   "cell_type": "code",
   "execution_count": null,
   "id": "45473612",
   "metadata": {},
   "outputs": [],
   "source": []
  }
 ],
 "metadata": {
  "kernelspec": {
   "display_name": "atlas-test",
   "language": "python",
   "name": "python3"
  },
  "language_info": {
   "codemirror_mode": {
    "name": "ipython",
    "version": 3
   },
   "file_extension": ".py",
   "mimetype": "text/x-python",
   "name": "python",
   "nbconvert_exporter": "python",
   "pygments_lexer": "ipython3",
   "version": "3.13.1"
  }
 },
 "nbformat": 4,
 "nbformat_minor": 5
}
